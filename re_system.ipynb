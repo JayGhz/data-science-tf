{
 "cells": [
  {
   "cell_type": "code",
   "execution_count": 93,
   "id": "a0b317ec",
   "metadata": {},
   "outputs": [],
   "source": [
    "import pandas as pd\n",
    "import numpy as np\n",
    "from sklearn.preprocessing import MinMaxScaler\n",
    "from sklearn.feature_extraction.text import TfidfVectorizer\n",
    "from sklearn.metrics.pairwise import cosine_similarity, euclidean_distances, manhattan_distances\n",
    "from scipy.stats import pearsonr\n",
    "from scipy.spatial.distance import jaccard\n",
    "from scipy.sparse import hstack, csr_matrix\n",
    "from sklearn.feature_extraction.text import CountVectorizer\n",
    "from sklearn.preprocessing import OneHotEncoder"
   ]
  },
  {
   "cell_type": "code",
   "execution_count": 94,
   "id": "9f339e0e",
   "metadata": {},
   "outputs": [],
   "source": [
    "df = pd.read_csv('data/dataset_processed.csv')"
   ]
  },
  {
   "cell_type": "code",
   "execution_count": 95,
   "id": "1450b3bc",
   "metadata": {},
   "outputs": [],
   "source": [
    "df = df.dropna(subset=[\"lyrics\"])"
   ]
  },
  {
   "cell_type": "code",
   "execution_count": 96,
   "id": "9c21ecd3",
   "metadata": {},
   "outputs": [],
   "source": [
    "# Seleccion de columnas numericas\n",
    "num_cols = [\n",
    "    \"valence\", \"danceability\", \"energy\", \"acousticness\", \n",
    "    \"instrumentalness\", \"liveness\", \"tempo\", \"loudness\", \"mode\", \"key\"\n",
    "]\n",
    "\n",
    "scaler = MinMaxScaler()\n",
    "num_features = scaler.fit_transform(df[num_cols])\n",
    "num_sparse = csr_matrix(num_features)"
   ]
  },
  {
   "cell_type": "code",
   "execution_count": 97,
   "id": "f50a3cb7",
   "metadata": {},
   "outputs": [],
   "source": [
    "# Vectorizar texto (TF-IDF)\n",
    "tfidf = TfidfVectorizer(stop_words='english', max_features=8000) # 8000 palabras más frecuentes\n",
    "tfidf_matrix = tfidf.fit_transform(df[\"lyrics\"])"
   ]
  },
  {
   "cell_type": "code",
   "execution_count": 98,
   "id": "cd3c2a42",
   "metadata": {},
   "outputs": [],
   "source": [
    "cat_encoder = OneHotEncoder(sparse_output=True, handle_unknown=\"ignore\")\n",
    "cat_features = cat_encoder.fit_transform(df[[\"artist\", \"decade\"]])"
   ]
  },
  {
   "cell_type": "code",
   "execution_count": 99,
   "id": "9aca30a9",
   "metadata": {},
   "outputs": [],
   "source": [
    "def get_top_k(sim_vector, k=10):\n",
    "    indices = sim_vector.argsort()[-k-1:][::-1]\n",
    "    indices = [i for i in indices if sim_vector[i] < 0.9999]\n",
    "    return indices[:k]"
   ]
  },
  {
   "cell_type": "code",
   "execution_count": 100,
   "id": "a4d3c5e3",
   "metadata": {},
   "outputs": [],
   "source": [
    "def recommend(song_name, metric=\"cosine\", data_type=\"numeric\", k=10):\n",
    "    try:\n",
    "        song_index = df[df[\"name\"].str.lower() == song_name.lower()].index[0]\n",
    "    except IndexError:\n",
    "        print(f\"Canción '{song_name}' no encontrada.\")\n",
    "        return\n",
    "    \n",
    "    if data_type == \"numeric\":\n",
    "        data = num_sparse\n",
    "    elif data_type == \"text\":\n",
    "        data = tfidf_matrix\n",
    "    elif data_type == \"categorical\":\n",
    "        data = cat_features\n",
    "    elif data_type == \"mixed\":\n",
    "        data = hstack([num_sparse, tfidf_matrix, cat_features])\n",
    "    else:\n",
    "        raise ValueError(\"Tipo de datos inválido: 'numeric', 'text', 'categorical' o 'mixed'\")\n",
    "    \n",
    "    x = data[song_index]\n",
    "\n",
    "    if metric == \"cosine\":\n",
    "        sim = cosine_similarity(x, data).flatten()\n",
    "    elif metric == \"euclidean\":\n",
    "        sim = 1 / (1 + euclidean_distances(x, data).flatten())\n",
    "    elif metric == \"manhattan\":\n",
    "        sim = 1 / (1 + manhattan_distances(x, data).flatten())\n",
    "    elif metric == \"pearson\":\n",
    "        x_dense = x.toarray().flatten()\n",
    "        sim = np.array([pearsonr(x_dense, y.toarray().flatten())[0] for y in data])\n",
    "        sim = np.nan_to_num(sim)\n",
    "    elif metric == \"jaccard\":\n",
    "        cv = CountVectorizer(binary=True, max_features=8000)\n",
    "        bin_matrix = cv.fit_transform(df[\"lyrics\"])\n",
    "        x_bin = bin_matrix[song_index].toarray().ravel() > 0\n",
    "        sim = []\n",
    "        for i in range(bin_matrix.shape[0]):\n",
    "            y_bin = bin_matrix[i].toarray().ravel() > 0\n",
    "            sim.append(1 - jaccard(x_bin, y_bin))\n",
    "        sim = np.array(sim)\n",
    "    else:\n",
    "        raise ValueError(\"Métrica inválida.\")\n",
    "\n",
    "    indices = get_top_k(sim, k)\n",
    "    recs = df.iloc[indices][[\"name\", \"artist\", \"decade\"]].copy()\n",
    "    recs[\"similarity\"] = sim[indices]\n",
    "    \n",
    "    print(f\"\\nRecomendaciones para: {df.loc[song_index, 'name']} ({metric}, {data_type})\")\n",
    "    return recs"
   ]
  },
  {
   "cell_type": "code",
   "execution_count": 101,
   "id": "c9f71e05",
   "metadata": {},
   "outputs": [],
   "source": [
    "song = \"Just the Way You Are\""
   ]
  },
  {
   "cell_type": "code",
   "execution_count": 102,
   "id": "b361801b",
   "metadata": {},
   "outputs": [
    {
     "name": "stdout",
     "output_type": "stream",
     "text": [
      "\n",
      "Recomendaciones para: Just the Way You Are (cosine, numeric)\n",
      "                                               name                 artist  \\\n",
      "19446                    When the Heartache Is Over            Tina Turner   \n",
      "2150                             Fire and the Flood              Vance Joy   \n",
      "3629                                      Bartender             (Hed) P.E.   \n",
      "18062                            Such Great Heights  Streetlight Manifesto   \n",
      "4214   Freak The Freak Out (feat. Victoria Justice)        Victorious Cast   \n",
      "8471                            Deal with the Devil               Pop Evil   \n",
      "6237                               According To You               Orianthi   \n",
      "6112                                  Bread & Water           Ryan Bingham   \n",
      "20058                                       Kiss Me          Casey Donahew   \n",
      "12605                                  Off She Goes               Bad Suns   \n",
      "\n",
      "       decade  similarity  \n",
      "19446    1990    0.998663  \n",
      "2150     2010    0.997925  \n",
      "3629     1990    0.997661  \n",
      "18062    2010    0.997417  \n",
      "4214     2010    0.997244  \n",
      "8471     2010    0.997158  \n",
      "6237     2010    0.997125  \n",
      "6112     2000    0.996939  \n",
      "20058    2010    0.996896  \n",
      "12605    2010    0.996840  \n",
      "\n",
      "Recomendaciones para: Just the Way You Are (euclidean, numeric)\n",
      "                             name                 artist  decade  similarity\n",
      "19446  When the Heartache Is Over            Tina Turner    1990    0.911551\n",
      "2150           Fire and the Flood              Vance Joy    2010    0.891896\n",
      "3629                    Bartender             (Hed) P.E.    1990    0.887239\n",
      "18062          Such Great Heights  Streetlight Manifesto    2010    0.875820\n",
      "6112                Bread & Water           Ryan Bingham    2000    0.872684\n",
      "20058                     Kiss Me          Casey Donahew    2010    0.868410\n",
      "9977                  Broken Home             Papa Roach    2000    0.866389\n",
      "892                    Wanted Man                   Ratt    1980    0.863306\n",
      "12605                Off She Goes               Bad Suns    2010    0.862185\n",
      "17185              A Love in Vain              Foreigner    1980    0.852139\n",
      "\n",
      "Recomendaciones para: Just the Way You Are (pearson, numeric)\n",
      "                                               name                 artist  \\\n",
      "19446                    When the Heartache Is Over            Tina Turner   \n",
      "2150                             Fire and the Flood              Vance Joy   \n",
      "3629                                      Bartender             (Hed) P.E.   \n",
      "12605                                  Off She Goes               Bad Suns   \n",
      "18062                            Such Great Heights  Streetlight Manifesto   \n",
      "4214   Freak The Freak Out (feat. Victoria Justice)        Victorious Cast   \n",
      "6237                               According To You               Orianthi   \n",
      "8471                            Deal with the Devil               Pop Evil   \n",
      "6112                                  Bread & Water           Ryan Bingham   \n",
      "20058                                       Kiss Me          Casey Donahew   \n",
      "\n",
      "       decade  similarity  \n",
      "19446    1990    0.996004  \n",
      "2150     2010    0.994005  \n",
      "3629     1990    0.992989  \n",
      "12605    2010    0.992675  \n",
      "18062    2010    0.992594  \n",
      "4214     2010    0.991893  \n",
      "6237     2010    0.991581  \n",
      "8471     2010    0.991475  \n",
      "6112     2000    0.991201  \n",
      "20058    2010    0.990883  \n"
     ]
    }
   ],
   "source": [
    "print(recommend(song, metric=\"cosine\", data_type=\"numeric\"))\n",
    "print(recommend(song, metric=\"euclidean\", data_type=\"numeric\"))\n",
    "print(recommend(song, metric=\"pearson\", data_type=\"numeric\"))"
   ]
  },
  {
   "cell_type": "code",
   "execution_count": 103,
   "id": "19d204ba",
   "metadata": {},
   "outputs": [
    {
     "name": "stdout",
     "output_type": "stream",
     "text": [
      "\n",
      "Recomendaciones para: Just the Way You Are (cosine, text)\n",
      "                                name           artist  decade  similarity\n",
      "960                       So Amazing  Luther Vandross    1980    0.447924\n",
      "8514                           Hello             OMFG    2010    0.414921\n",
      "10020                Love Of My Life   Brian McKnight    2000    0.340674\n",
      "17097                    All the Way     Judas Priest    1980    0.318356\n",
      "19728                Detlef Schrempf   Band of Horses    2000    0.295776\n",
      "17717  Slum Beautiful (feat. Cee-Lo)          OutKast    2000    0.295714\n",
      "2162         Scars To Your Beautiful     Alessia Cara    2010    0.286229\n",
      "1333                  You're the One              SWV    1990    0.274925\n",
      "13908               You've Got A Way     Shania Twain    1990    0.268412\n",
      "8420            Everything About You    One Direction    2010    0.267022\n",
      "\n",
      "Recomendaciones para: Just the Way You Are (jaccard, text)\n",
      "                                                    name          artist  \\\n",
      "15419                               People Ain't No Good      The Cramps   \n",
      "1327                                                Beer   Reel Big Fish   \n",
      "16767                                          Sweetness             Yes   \n",
      "3708                                          Honey Baby      Three Plus   \n",
      "14343                    These Days (feat. 77 Jefferson)  Josh Heinrichs   \n",
      "16155                                  Write Me A Letter           Maoli   \n",
      "16300                                         Right Here   Justin Bieber   \n",
      "1408   I Don't Want to Miss a Thing - From \"Armageddo...       Aerosmith   \n",
      "821                                              You Are   Lionel Richie   \n",
      "516                                         Honey, Honey            ABBA   \n",
      "\n",
      "       decade  similarity  \n",
      "15419    1980    0.251908  \n",
      "1327     1990    0.251701  \n",
      "16767    1960    0.248227  \n",
      "3708     1990    0.246667  \n",
      "14343    2010    0.243421  \n",
      "16155    2000    0.241379  \n",
      "16300    2010    0.240741  \n",
      "1408     1990    0.239437  \n",
      "821      1980    0.238806  \n",
      "516      1970    0.238095  \n"
     ]
    }
   ],
   "source": [
    "print(recommend(song, metric=\"cosine\", data_type=\"text\"))\n",
    "print(recommend(song, metric=\"jaccard\", data_type=\"text\"))"
   ]
  },
  {
   "cell_type": "code",
   "execution_count": 104,
   "id": "8c197b32",
   "metadata": {},
   "outputs": [
    {
     "name": "stdout",
     "output_type": "stream",
     "text": [
      "\n",
      "Recomendaciones para: Just the Way You Are (cosine, mixed)\n",
      "                       name      artist  decade  similarity\n",
      "8415                Natalie  Bruno Mars    2010    0.861249\n",
      "2034   Locked out of Heaven  Bruno Mars    2010    0.851461\n",
      "1956           Runaway Baby  Bruno Mars    2010    0.835371\n",
      "14405  Money Make Her Smile  Bruno Mars    2010    0.826693\n",
      "6332              If I Knew  Bruno Mars    2010    0.794093\n",
      "14417              Treasure  Bruno Mars    2010    0.755790\n",
      "8557                Finesse  Bruno Mars    2010    0.754191\n",
      "2027    When I Was Your Man  Bruno Mars    2010    0.742695\n",
      "10665                Summer  Marshmello    2010    0.742660\n",
      "4244            Young Girls  Bruno Mars    2010    0.742517\n"
     ]
    }
   ],
   "source": [
    "print(recommend(song, metric=\"cosine\", data_type=\"mixed\"))"
   ]
  }
 ],
 "metadata": {
  "kernelspec": {
   "display_name": "env",
   "language": "python",
   "name": "python3"
  },
  "language_info": {
   "codemirror_mode": {
    "name": "ipython",
    "version": 3
   },
   "file_extension": ".py",
   "mimetype": "text/x-python",
   "name": "python",
   "nbconvert_exporter": "python",
   "pygments_lexer": "ipython3",
   "version": "3.12.0"
  }
 },
 "nbformat": 4,
 "nbformat_minor": 5
}
