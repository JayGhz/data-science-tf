{
 "cells": [
  {
   "cell_type": "code",
   "execution_count": 17,
   "id": "a0b317ec",
   "metadata": {},
   "outputs": [],
   "source": [
    "import pandas as pd\n",
    "import numpy as np\n",
    "from sklearn.preprocessing import MinMaxScaler\n",
    "from sklearn.feature_extraction.text import TfidfVectorizer\n",
    "from sklearn.metrics.pairwise import cosine_similarity, euclidean_distances, manhattan_distances\n",
    "from scipy.stats import pearsonr\n",
    "from scipy.spatial.distance import jaccard\n",
    "from scipy.sparse import hstack, csr_matrix\n",
    "from sklearn.feature_extraction.text import CountVectorizer\n",
    "from sklearn.preprocessing import OneHotEncoder"
   ]
  },
  {
   "cell_type": "code",
   "execution_count": 18,
   "id": "9f339e0e",
   "metadata": {},
   "outputs": [],
   "source": [
    "df = pd.read_csv('data/dataset_processed.csv')"
   ]
  },
  {
   "cell_type": "code",
   "execution_count": 19,
   "id": "1450b3bc",
   "metadata": {},
   "outputs": [],
   "source": [
    "df = df.dropna(subset=[\"lyrics\"])"
   ]
  },
  {
   "cell_type": "code",
   "execution_count": 20,
   "id": "9c21ecd3",
   "metadata": {},
   "outputs": [],
   "source": [
    "# Seleccion de columnas numericas\n",
    "num_cols = [\n",
    "    \"valence\", \"danceability\", \"energy\", \"acousticness\", \n",
    "    \"instrumentalness\", \"liveness\", \"tempo\", \"loudness\", \"mode\", \"key\"\n",
    "]\n",
    "\n",
    "scaler = MinMaxScaler()\n",
    "num_features = scaler.fit_transform(df[num_cols])\n",
    "num_sparse = csr_matrix(num_features)"
   ]
  },
  {
   "cell_type": "code",
   "execution_count": 21,
   "id": "f50a3cb7",
   "metadata": {},
   "outputs": [],
   "source": [
    "# Vectorizar texto (TF-IDF)\n",
    "tfidf = TfidfVectorizer(stop_words='english', max_features=8000) # 8000 palabras más frecuentes\n",
    "tfidf_matrix = tfidf.fit_transform(df[\"lyrics\"])"
   ]
  },
  {
   "cell_type": "code",
   "execution_count": 22,
   "id": "cd3c2a42",
   "metadata": {},
   "outputs": [],
   "source": [
    "cat_encoder = OneHotEncoder(sparse_output=True, handle_unknown=\"ignore\")\n",
    "cat_features = cat_encoder.fit_transform(df[[\"artist\", \"decade\"]])"
   ]
  },
  {
   "cell_type": "code",
   "execution_count": 35,
   "id": "9aca30a9",
   "metadata": {},
   "outputs": [],
   "source": [
    "def get_top_k(sim_vector, k=5):\n",
    "    indices = sim_vector.argsort()[-k-1:][::-1]\n",
    "    indices = [i for i in indices if sim_vector[i] < 0.9999]\n",
    "    return indices[:k]"
   ]
  },
  {
   "cell_type": "code",
   "execution_count": 36,
   "id": "a4d3c5e3",
   "metadata": {},
   "outputs": [],
   "source": [
    "def recommend(song_name, metric=\"cosine\", data_type=\"numeric\", k=5):\n",
    "    try:\n",
    "        song_index = df[df[\"name\"].str.lower() == song_name.lower()].index[0]\n",
    "    except IndexError:\n",
    "        print(f\"Canción '{song_name}' no encontrada.\")\n",
    "        return\n",
    "    \n",
    "    if data_type == \"numeric\":\n",
    "        data = num_sparse\n",
    "    elif data_type == \"text\":\n",
    "        data = tfidf_matrix\n",
    "    elif data_type == \"categorical\":\n",
    "        data = cat_features\n",
    "    elif data_type == \"mixed\":\n",
    "        data = hstack([num_sparse, tfidf_matrix, cat_features])\n",
    "    else:\n",
    "        raise ValueError(\"Tipo de datos inválido: 'numeric', 'text', 'categorical' o 'mixed'\")\n",
    "    \n",
    "    x = data[song_index]\n",
    "\n",
    "    if metric == \"cosine\":\n",
    "        sim = cosine_similarity(x, data).flatten()\n",
    "    elif metric == \"euclidean\":\n",
    "        sim = 1 / (1 + euclidean_distances(x, data).flatten())\n",
    "    elif metric == \"manhattan\":\n",
    "        sim = 1 / (1 + manhattan_distances(x, data).flatten())\n",
    "    elif metric == \"pearson\":\n",
    "        x_dense = x.toarray().flatten()\n",
    "        sim = np.array([pearsonr(x_dense, y.toarray().flatten())[0] for y in data])\n",
    "        sim = np.nan_to_num(sim)\n",
    "    elif metric == \"jaccard\":\n",
    "        cv = CountVectorizer(binary=True, max_features=8000)\n",
    "        bin_matrix = cv.fit_transform(df[\"lyrics\"])\n",
    "        x_bin = bin_matrix[song_index].toarray().ravel() > 0\n",
    "        sim = []\n",
    "        for i in range(bin_matrix.shape[0]):\n",
    "            y_bin = bin_matrix[i].toarray().ravel() > 0\n",
    "            sim.append(1 - jaccard(x_bin, y_bin))\n",
    "        sim = np.array(sim)\n",
    "    else:\n",
    "        raise ValueError(\"Métrica inválida.\")\n",
    "\n",
    "    indices = get_top_k(sim, k)\n",
    "    recs = df.iloc[indices][[\"name\", \"artist\", \"decade\"]].copy()\n",
    "    recs[\"similarity\"] = sim[indices]\n",
    "    \n",
    "    print(f\"\\nRecomendaciones para: {df.loc[song_index, 'name']} ({metric}, {data_type})\")\n",
    "    return recs"
   ]
  },
  {
   "cell_type": "code",
   "execution_count": 37,
   "id": "c9f71e05",
   "metadata": {},
   "outputs": [],
   "source": [
    "song = \"Wonderwall\"\n"
   ]
  },
  {
   "cell_type": "code",
   "execution_count": null,
   "id": "b361801b",
   "metadata": {},
   "outputs": [
    {
     "name": "stdout",
     "output_type": "stream",
     "text": [
      "\n",
      "Recomendaciones para: Wonderwall (cosine, numeric)\n"
     ]
    },
    {
     "data": {
      "text/html": [
       "<div>\n",
       "<style scoped>\n",
       "    .dataframe tbody tr th:only-of-type {\n",
       "        vertical-align: middle;\n",
       "    }\n",
       "\n",
       "    .dataframe tbody tr th {\n",
       "        vertical-align: top;\n",
       "    }\n",
       "\n",
       "    .dataframe thead th {\n",
       "        text-align: right;\n",
       "    }\n",
       "</style>\n",
       "<table border=\"1\" class=\"dataframe\">\n",
       "  <thead>\n",
       "    <tr style=\"text-align: right;\">\n",
       "      <th></th>\n",
       "      <th>name</th>\n",
       "      <th>artist</th>\n",
       "      <th>decade</th>\n",
       "      <th>similarity</th>\n",
       "    </tr>\n",
       "  </thead>\n",
       "  <tbody>\n",
       "    <tr>\n",
       "      <th>9256</th>\n",
       "      <td>Lonely Children</td>\n",
       "      <td>Foreigner</td>\n",
       "      <td>1970</td>\n",
       "      <td>0.998240</td>\n",
       "    </tr>\n",
       "    <tr>\n",
       "      <th>18125</th>\n",
       "      <td>Placeholder</td>\n",
       "      <td>The Story So Far</td>\n",
       "      <td>2010</td>\n",
       "      <td>0.997990</td>\n",
       "    </tr>\n",
       "    <tr>\n",
       "      <th>17943</th>\n",
       "      <td>Lie To Me</td>\n",
       "      <td>12 Stones</td>\n",
       "      <td>2000</td>\n",
       "      <td>0.997884</td>\n",
       "    </tr>\n",
       "    <tr>\n",
       "      <th>1584</th>\n",
       "      <td>My Friends Over You</td>\n",
       "      <td>New Found Glory</td>\n",
       "      <td>2000</td>\n",
       "      <td>0.997738</td>\n",
       "    </tr>\n",
       "    <tr>\n",
       "      <th>14488</th>\n",
       "      <td>Falling in Love Again</td>\n",
       "      <td>Joyce Manor</td>\n",
       "      <td>2010</td>\n",
       "      <td>0.997545</td>\n",
       "    </tr>\n",
       "  </tbody>\n",
       "</table>\n",
       "</div>"
      ],
      "text/plain": [
       "                        name            artist  decade  similarity\n",
       "9256         Lonely Children         Foreigner    1970    0.998240\n",
       "18125            Placeholder  The Story So Far    2010    0.997990\n",
       "17943              Lie To Me         12 Stones    2000    0.997884\n",
       "1584     My Friends Over You   New Found Glory    2000    0.997738\n",
       "14488  Falling in Love Again       Joyce Manor    2010    0.997545"
      ]
     },
     "execution_count": 38,
     "metadata": {},
     "output_type": "execute_result"
    }
   ],
   "source": [
    "recommend(song, metric=\"cosine\", data_type=\"numeric\")"
   ]
  },
  {
   "cell_type": "code",
   "execution_count": 41,
   "id": "e5165776",
   "metadata": {},
   "outputs": [
    {
     "name": "stdout",
     "output_type": "stream",
     "text": [
      "\n",
      "Recomendaciones para: Wonderwall (euclidean, numeric)\n"
     ]
    },
    {
     "data": {
      "text/html": [
       "<div>\n",
       "<style scoped>\n",
       "    .dataframe tbody tr th:only-of-type {\n",
       "        vertical-align: middle;\n",
       "    }\n",
       "\n",
       "    .dataframe tbody tr th {\n",
       "        vertical-align: top;\n",
       "    }\n",
       "\n",
       "    .dataframe thead th {\n",
       "        text-align: right;\n",
       "    }\n",
       "</style>\n",
       "<table border=\"1\" class=\"dataframe\">\n",
       "  <thead>\n",
       "    <tr style=\"text-align: right;\">\n",
       "      <th></th>\n",
       "      <th>name</th>\n",
       "      <th>artist</th>\n",
       "      <th>decade</th>\n",
       "      <th>similarity</th>\n",
       "    </tr>\n",
       "  </thead>\n",
       "  <tbody>\n",
       "    <tr>\n",
       "      <th>9256</th>\n",
       "      <td>Lonely Children</td>\n",
       "      <td>Foreigner</td>\n",
       "      <td>1970</td>\n",
       "      <td>0.897445</td>\n",
       "    </tr>\n",
       "    <tr>\n",
       "      <th>17943</th>\n",
       "      <td>Lie To Me</td>\n",
       "      <td>12 Stones</td>\n",
       "      <td>2000</td>\n",
       "      <td>0.890763</td>\n",
       "    </tr>\n",
       "    <tr>\n",
       "      <th>11419</th>\n",
       "      <td>Pain and Pleasure</td>\n",
       "      <td>Judas Priest</td>\n",
       "      <td>1980</td>\n",
       "      <td>0.875085</td>\n",
       "    </tr>\n",
       "    <tr>\n",
       "      <th>7593</th>\n",
       "      <td>Too Many Puppies</td>\n",
       "      <td>Primus</td>\n",
       "      <td>1990</td>\n",
       "      <td>0.873275</td>\n",
       "    </tr>\n",
       "    <tr>\n",
       "      <th>19918</th>\n",
       "      <td>Kids in America</td>\n",
       "      <td>The Muffs</td>\n",
       "      <td>2010</td>\n",
       "      <td>0.872584</td>\n",
       "    </tr>\n",
       "  </tbody>\n",
       "</table>\n",
       "</div>"
      ],
      "text/plain": [
       "                    name        artist  decade  similarity\n",
       "9256     Lonely Children     Foreigner    1970    0.897445\n",
       "17943          Lie To Me     12 Stones    2000    0.890763\n",
       "11419  Pain and Pleasure  Judas Priest    1980    0.875085\n",
       "7593    Too Many Puppies        Primus    1990    0.873275\n",
       "19918    Kids in America     The Muffs    2010    0.872584"
      ]
     },
     "execution_count": 41,
     "metadata": {},
     "output_type": "execute_result"
    }
   ],
   "source": [
    "recommend(song, metric=\"euclidean\", data_type=\"numeric\")\n"
   ]
  },
  {
   "cell_type": "code",
   "execution_count": 42,
   "id": "e37282b8",
   "metadata": {},
   "outputs": [
    {
     "name": "stdout",
     "output_type": "stream",
     "text": [
      "\n",
      "Recomendaciones para: Wonderwall (pearson, numeric)\n"
     ]
    },
    {
     "data": {
      "text/html": [
       "<div>\n",
       "<style scoped>\n",
       "    .dataframe tbody tr th:only-of-type {\n",
       "        vertical-align: middle;\n",
       "    }\n",
       "\n",
       "    .dataframe tbody tr th {\n",
       "        vertical-align: top;\n",
       "    }\n",
       "\n",
       "    .dataframe thead th {\n",
       "        text-align: right;\n",
       "    }\n",
       "</style>\n",
       "<table border=\"1\" class=\"dataframe\">\n",
       "  <thead>\n",
       "    <tr style=\"text-align: right;\">\n",
       "      <th></th>\n",
       "      <th>name</th>\n",
       "      <th>artist</th>\n",
       "      <th>decade</th>\n",
       "      <th>similarity</th>\n",
       "    </tr>\n",
       "  </thead>\n",
       "  <tbody>\n",
       "    <tr>\n",
       "      <th>9256</th>\n",
       "      <td>Lonely Children</td>\n",
       "      <td>Foreigner</td>\n",
       "      <td>1970</td>\n",
       "      <td>0.995308</td>\n",
       "    </tr>\n",
       "    <tr>\n",
       "      <th>1584</th>\n",
       "      <td>My Friends Over You</td>\n",
       "      <td>New Found Glory</td>\n",
       "      <td>2000</td>\n",
       "      <td>0.995008</td>\n",
       "    </tr>\n",
       "    <tr>\n",
       "      <th>17943</th>\n",
       "      <td>Lie To Me</td>\n",
       "      <td>12 Stones</td>\n",
       "      <td>2000</td>\n",
       "      <td>0.994692</td>\n",
       "    </tr>\n",
       "    <tr>\n",
       "      <th>18125</th>\n",
       "      <td>Placeholder</td>\n",
       "      <td>The Story So Far</td>\n",
       "      <td>2010</td>\n",
       "      <td>0.994654</td>\n",
       "    </tr>\n",
       "    <tr>\n",
       "      <th>14488</th>\n",
       "      <td>Falling in Love Again</td>\n",
       "      <td>Joyce Manor</td>\n",
       "      <td>2010</td>\n",
       "      <td>0.994046</td>\n",
       "    </tr>\n",
       "  </tbody>\n",
       "</table>\n",
       "</div>"
      ],
      "text/plain": [
       "                        name            artist  decade  similarity\n",
       "9256         Lonely Children         Foreigner    1970    0.995308\n",
       "1584     My Friends Over You   New Found Glory    2000    0.995008\n",
       "17943              Lie To Me         12 Stones    2000    0.994692\n",
       "18125            Placeholder  The Story So Far    2010    0.994654\n",
       "14488  Falling in Love Again       Joyce Manor    2010    0.994046"
      ]
     },
     "execution_count": 42,
     "metadata": {},
     "output_type": "execute_result"
    }
   ],
   "source": [
    "recommend(song, metric=\"pearson\", data_type=\"numeric\")"
   ]
  },
  {
   "cell_type": "code",
   "execution_count": 43,
   "id": "19d204ba",
   "metadata": {},
   "outputs": [
    {
     "name": "stdout",
     "output_type": "stream",
     "text": [
      "\n",
      "Recomendaciones para: Wonderwall (cosine, text)\n"
     ]
    },
    {
     "data": {
      "text/html": [
       "<div>\n",
       "<style scoped>\n",
       "    .dataframe tbody tr th:only-of-type {\n",
       "        vertical-align: middle;\n",
       "    }\n",
       "\n",
       "    .dataframe tbody tr th {\n",
       "        vertical-align: top;\n",
       "    }\n",
       "\n",
       "    .dataframe thead th {\n",
       "        text-align: right;\n",
       "    }\n",
       "</style>\n",
       "<table border=\"1\" class=\"dataframe\">\n",
       "  <thead>\n",
       "    <tr style=\"text-align: right;\">\n",
       "      <th></th>\n",
       "      <th>name</th>\n",
       "      <th>artist</th>\n",
       "      <th>decade</th>\n",
       "      <th>similarity</th>\n",
       "    </tr>\n",
       "  </thead>\n",
       "  <tbody>\n",
       "    <tr>\n",
       "      <th>3199</th>\n",
       "      <td>Jesus Saves</td>\n",
       "      <td>Slayer</td>\n",
       "      <td>1980</td>\n",
       "      <td>0.381213</td>\n",
       "    </tr>\n",
       "    <tr>\n",
       "      <th>6176</th>\n",
       "      <td>You Make It Real</td>\n",
       "      <td>James Morrison</td>\n",
       "      <td>2000</td>\n",
       "      <td>0.318198</td>\n",
       "    </tr>\n",
       "    <tr>\n",
       "      <th>4321</th>\n",
       "      <td>Fireproof</td>\n",
       "      <td>One Direction</td>\n",
       "      <td>2010</td>\n",
       "      <td>0.301804</td>\n",
       "    </tr>\n",
       "    <tr>\n",
       "      <th>17635</th>\n",
       "      <td>Crimson Ghost</td>\n",
       "      <td>Misfits</td>\n",
       "      <td>1990</td>\n",
       "      <td>0.274993</td>\n",
       "    </tr>\n",
       "    <tr>\n",
       "      <th>14871</th>\n",
       "      <td>Love Me Like You Mean It</td>\n",
       "      <td>Percy Sledge</td>\n",
       "      <td>1960</td>\n",
       "      <td>0.267984</td>\n",
       "    </tr>\n",
       "  </tbody>\n",
       "</table>\n",
       "</div>"
      ],
      "text/plain": [
       "                           name          artist  decade  similarity\n",
       "3199                Jesus Saves          Slayer    1980    0.381213\n",
       "6176           You Make It Real  James Morrison    2000    0.318198\n",
       "4321                  Fireproof   One Direction    2010    0.301804\n",
       "17635             Crimson Ghost         Misfits    1990    0.274993\n",
       "14871  Love Me Like You Mean It    Percy Sledge    1960    0.267984"
      ]
     },
     "execution_count": 43,
     "metadata": {},
     "output_type": "execute_result"
    }
   ],
   "source": [
    "recommend(song, metric=\"cosine\", data_type=\"text\")"
   ]
  },
  {
   "cell_type": "code",
   "execution_count": 44,
   "id": "181ebe79",
   "metadata": {},
   "outputs": [
    {
     "name": "stdout",
     "output_type": "stream",
     "text": [
      "\n",
      "Recomendaciones para: Wonderwall (jaccard, text)\n"
     ]
    },
    {
     "data": {
      "text/html": [
       "<div>\n",
       "<style scoped>\n",
       "    .dataframe tbody tr th:only-of-type {\n",
       "        vertical-align: middle;\n",
       "    }\n",
       "\n",
       "    .dataframe tbody tr th {\n",
       "        vertical-align: top;\n",
       "    }\n",
       "\n",
       "    .dataframe thead th {\n",
       "        text-align: right;\n",
       "    }\n",
       "</style>\n",
       "<table border=\"1\" class=\"dataframe\">\n",
       "  <thead>\n",
       "    <tr style=\"text-align: right;\">\n",
       "      <th></th>\n",
       "      <th>name</th>\n",
       "      <th>artist</th>\n",
       "      <th>decade</th>\n",
       "      <th>similarity</th>\n",
       "    </tr>\n",
       "  </thead>\n",
       "  <tbody>\n",
       "    <tr>\n",
       "      <th>5448</th>\n",
       "      <td>Feel A Whole Lot Better</td>\n",
       "      <td>Tom Petty</td>\n",
       "      <td>1980</td>\n",
       "      <td>0.272727</td>\n",
       "    </tr>\n",
       "    <tr>\n",
       "      <th>3863</th>\n",
       "      <td>Hit the Floor</td>\n",
       "      <td>Linkin Park</td>\n",
       "      <td>2000</td>\n",
       "      <td>0.268750</td>\n",
       "    </tr>\n",
       "    <tr>\n",
       "      <th>14833</th>\n",
       "      <td>I'll Feel a Whole Lot Better</td>\n",
       "      <td>The Byrds</td>\n",
       "      <td>1960</td>\n",
       "      <td>0.267857</td>\n",
       "    </tr>\n",
       "    <tr>\n",
       "      <th>8735</th>\n",
       "      <td>Kinfolks</td>\n",
       "      <td>Sam Hunt</td>\n",
       "      <td>2020</td>\n",
       "      <td>0.263514</td>\n",
       "    </tr>\n",
       "    <tr>\n",
       "      <th>801</th>\n",
       "      <td>You Can Do Magic</td>\n",
       "      <td>America</td>\n",
       "      <td>1980</td>\n",
       "      <td>0.261194</td>\n",
       "    </tr>\n",
       "  </tbody>\n",
       "</table>\n",
       "</div>"
      ],
      "text/plain": [
       "                               name       artist  decade  similarity\n",
       "5448        Feel A Whole Lot Better    Tom Petty    1980    0.272727\n",
       "3863                  Hit the Floor  Linkin Park    2000    0.268750\n",
       "14833  I'll Feel a Whole Lot Better    The Byrds    1960    0.267857\n",
       "8735                       Kinfolks     Sam Hunt    2020    0.263514\n",
       "801                You Can Do Magic      America    1980    0.261194"
      ]
     },
     "execution_count": 44,
     "metadata": {},
     "output_type": "execute_result"
    }
   ],
   "source": [
    "recommend(song, metric=\"jaccard\", data_type=\"text\")"
   ]
  },
  {
   "cell_type": "code",
   "execution_count": 45,
   "id": "8c197b32",
   "metadata": {},
   "outputs": [
    {
     "name": "stdout",
     "output_type": "stream",
     "text": [
      "\n",
      "Recomendaciones para: Wonderwall (cosine, mixed)\n"
     ]
    },
    {
     "data": {
      "text/html": [
       "<div>\n",
       "<style scoped>\n",
       "    .dataframe tbody tr th:only-of-type {\n",
       "        vertical-align: middle;\n",
       "    }\n",
       "\n",
       "    .dataframe tbody tr th {\n",
       "        vertical-align: top;\n",
       "    }\n",
       "\n",
       "    .dataframe thead th {\n",
       "        text-align: right;\n",
       "    }\n",
       "</style>\n",
       "<table border=\"1\" class=\"dataframe\">\n",
       "  <thead>\n",
       "    <tr style=\"text-align: right;\">\n",
       "      <th></th>\n",
       "      <th>name</th>\n",
       "      <th>artist</th>\n",
       "      <th>decade</th>\n",
       "      <th>similarity</th>\n",
       "    </tr>\n",
       "  </thead>\n",
       "  <tbody>\n",
       "    <tr>\n",
       "      <th>1270</th>\n",
       "      <td>Don't Look Back In Anger</td>\n",
       "      <td>Oasis</td>\n",
       "      <td>1990</td>\n",
       "      <td>0.849128</td>\n",
       "    </tr>\n",
       "    <tr>\n",
       "      <th>7772</th>\n",
       "      <td>Hey Now!</td>\n",
       "      <td>Oasis</td>\n",
       "      <td>1990</td>\n",
       "      <td>0.839889</td>\n",
       "    </tr>\n",
       "    <tr>\n",
       "      <th>9936</th>\n",
       "      <td>The Masterplan</td>\n",
       "      <td>Oasis</td>\n",
       "      <td>1990</td>\n",
       "      <td>0.830560</td>\n",
       "    </tr>\n",
       "    <tr>\n",
       "      <th>1367</th>\n",
       "      <td>Tubthumping</td>\n",
       "      <td>Chumbawamba</td>\n",
       "      <td>1990</td>\n",
       "      <td>0.710935</td>\n",
       "    </tr>\n",
       "    <tr>\n",
       "      <th>15590</th>\n",
       "      <td>Why Do You Want Him?</td>\n",
       "      <td>Green Day</td>\n",
       "      <td>1990</td>\n",
       "      <td>0.705764</td>\n",
       "    </tr>\n",
       "  </tbody>\n",
       "</table>\n",
       "</div>"
      ],
      "text/plain": [
       "                           name       artist  decade  similarity\n",
       "1270   Don't Look Back In Anger        Oasis    1990    0.849128\n",
       "7772                   Hey Now!        Oasis    1990    0.839889\n",
       "9936             The Masterplan        Oasis    1990    0.830560\n",
       "1367                Tubthumping  Chumbawamba    1990    0.710935\n",
       "15590      Why Do You Want Him?    Green Day    1990    0.705764"
      ]
     },
     "execution_count": 45,
     "metadata": {},
     "output_type": "execute_result"
    }
   ],
   "source": [
    "recommend(song, metric=\"cosine\", data_type=\"mixed\")"
   ]
  }
 ],
 "metadata": {
  "kernelspec": {
   "display_name": "env",
   "language": "python",
   "name": "python3"
  },
  "language_info": {
   "codemirror_mode": {
    "name": "ipython",
    "version": 3
   },
   "file_extension": ".py",
   "mimetype": "text/x-python",
   "name": "python",
   "nbconvert_exporter": "python",
   "pygments_lexer": "ipython3",
   "version": "3.12.0"
  }
 },
 "nbformat": 4,
 "nbformat_minor": 5
}
