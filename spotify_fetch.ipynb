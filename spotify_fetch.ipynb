{
 "cells": [
  {
   "cell_type": "code",
   "execution_count": 1,
   "id": "f745e677",
   "metadata": {},
   "outputs": [],
   "source": [
    "from dotenv import load_dotenv\n",
    "import os\n",
    "import spotipy\n",
    "from spotipy.oauth2 import SpotifyClientCredentials\n"
   ]
  },
  {
   "cell_type": "code",
   "execution_count": 2,
   "id": "4953a18a",
   "metadata": {},
   "outputs": [],
   "source": [
    "load_dotenv()\n",
    "\n",
    "sp = spotipy.Spotify(auth_manager=SpotifyClientCredentials(\n",
    "    client_id=os.getenv(\"SPOTIPY_CLIENT_ID\"),\n",
    "    client_secret=os.getenv(\"SPOTIPY_CLIENT_SECRET\")\n",
    "))"
   ]
  },
  {
   "cell_type": "code",
   "execution_count": 3,
   "id": "f230e693",
   "metadata": {},
   "outputs": [
    {
     "name": "stdout",
     "output_type": "stream",
     "text": [
      "Bad - Michael Jackson - 1987\n",
      "Gold - Spandau Ballet - 1986\n",
      "Every Breath You Take - The Police - 1983-06-17\n",
      "Take on Me - a-ha - 1985-06-01\n",
      "Sweet Child O' Mine - Guns N' Roses - 1987-07-21\n",
      "The Way You Make Me Feel - Michael Jackson - 1987\n",
      "Devuélveme a mi chica - Hombres G - 1985\n",
      "Cuando Pase El Temblor - Remasterizado 2007 - Soda Stereo - 1985-10-09\n",
      "Maria Magdalena - Sandra - 1985-01-01\n",
      "Peperina - En Directo / Estadio Luna Park 1983 - Charly García - 1983\n"
     ]
    }
   ],
   "source": [
    "results = sp.search(q=\"year:1980-1989\", type=\"track\", limit=10)\n",
    "for track in results[\"tracks\"][\"items\"]:\n",
    "    print(track[\"name\"], \"-\", track[\"artists\"][0][\"name\"], \"-\", track[\"album\"][\"release_date\"])\n"
   ]
  }
 ],
 "metadata": {
  "kernelspec": {
   "display_name": "env",
   "language": "python",
   "name": "python3"
  },
  "language_info": {
   "codemirror_mode": {
    "name": "ipython",
    "version": 3
   },
   "file_extension": ".py",
   "mimetype": "text/x-python",
   "name": "python",
   "nbconvert_exporter": "python",
   "pygments_lexer": "ipython3",
   "version": "3.13.5"
  }
 },
 "nbformat": 4,
 "nbformat_minor": 5
}
